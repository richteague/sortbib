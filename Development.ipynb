{
 "cells": [
  {
   "cell_type": "code",
   "execution_count": 5,
   "metadata": {
    "collapsed": true
   },
   "outputs": [],
   "source": [
    "%qtconsole"
   ]
  },
  {
   "cell_type": "code",
   "execution_count": 175,
   "metadata": {
    "collapsed": false
   },
   "outputs": [],
   "source": [
    "class BibItem:\n",
    "    \n",
    "    def __init__(self, text):\n",
    "        \n",
    "        # Find the keywords avaialble.\n",
    "        # For each key in keywords, cut out the line and remove bounding braces.\n",
    "        \n",
    "        self.text = text\n",
    "        \n",
    "        self.getKeys()\n",
    "        \n",
    "        self.writeCiteKey()\n",
    "        \n",
    "        return\n",
    "\n",
    "    # Create a dictionary with all the keywords and their values from the bibitem.\n",
    "    def getKeys(self):\n",
    "        self.keywords = self.parseKeyWords()\n",
    "        self.keys = {}\n",
    "        for key in self.keywords:\n",
    "            self.keys[key] = self.parseKeyValue(key)\n",
    "        return\n",
    "    \n",
    "    \n",
    "    # Find the entry type, e.g. arcticle, or inbook. Not currently used.\n",
    "    def parseType(self):\n",
    "        self.itemtype = None\n",
    "        for i in range(1, len(self.text[0])):\n",
    "            if self.text[0][i] == u'{':\n",
    "                self.itemtype = self.text[0][1:i]\n",
    "                break\n",
    "        return\n",
    "\n",
    "    \n",
    "    # Parse the information for the given key.\n",
    "    def parseKeyValue(self, key):\n",
    "        \n",
    "        # Use the special author function.\n",
    "        if key == 'author':\n",
    "            return self.parseAuthors()\n",
    "\n",
    "        # Find the line with the key in.\n",
    "        for l, line in enumerate(self.text):\n",
    "            if key in line.lower():\n",
    "                break\n",
    "                \n",
    "        # Parse the appropriate section from the keyword. Strip the curly braces.\n",
    "        return self.stripBraces(self.getFullLine(l))\n",
    "\n",
    "        \n",
    "    # Find the different keys used in the bibliography item.\n",
    "    def parseKeyWords(self):\n",
    "        return [l.split('=')[0].split()[0].lower() for l in self.text if '=' in l]\n",
    "\n",
    "    \n",
    "    # Find the lines containing the author list, then parse the string\n",
    "    # of author names, returning those in braces.\n",
    "    def parseAuthors(self):\n",
    "        for i, line in enumerate(self.text):\n",
    "            if 'author' in line.lower():\n",
    "                break\n",
    "        lb, rb = 0, 0\n",
    "        for l, line in enumerate(self.text[i:]):\n",
    "            lb += line.count(u'{')\n",
    "            rb += line.count(u'}')\n",
    "            if lb == rb:\n",
    "                break\n",
    "        s = ''.join([l for l in self.text[i:i+l+1]])\n",
    "        s = s.replace('\\n', '')\n",
    "        names = []\n",
    "        lb = 0\n",
    "        rb = 0\n",
    "        i = 0\n",
    "        for c, char in enumerate(s):\n",
    "            if char == u'{':\n",
    "                lb += 1\n",
    "                i = c + 1\n",
    "            elif char == u'}':\n",
    "                rb += 1\n",
    "                if (lb - 1 == rb and rb > 0):\n",
    "                    names.append(self.stripString(s[i:c]))\n",
    "                    i = c\n",
    "        return names\n",
    "\n",
    "    \n",
    "    # Return the joined strings for one keyword entry.\n",
    "    def getFullLine(self, i):\n",
    "        lb, rb = 0, 0\n",
    "        for l, line in enumerate(self.text[i:]):\n",
    "            lb += line.count(u'{')\n",
    "            rb += line.count(u'}')\n",
    "            if lb == rb:\n",
    "                break\n",
    "        s = ''.join([l for l in self.text[i:i+l+1]])\n",
    "        return s.split('=')[-1]\n",
    "    \n",
    "\n",
    "    # Strip a string down to the braces.\n",
    "    def stripBraces(self, s):\n",
    "        if (u'{' not in s and u'}' not in s):\n",
    "            return s.strip()\n",
    "        for i in range(len(s)):\n",
    "            if s[i] == u'{':\n",
    "                i += 1\n",
    "                break\n",
    "        for j in range(1, len(s)):\n",
    "            if s[-j] == u'}':\n",
    "                j *= -1\n",
    "                break\n",
    "        return s[i:j]\n",
    "\n",
    "    \n",
    "    # Remove spurious characters in a string.\n",
    "    def stripString(self, s):\n",
    "        s = s.replace(u'\\\\', '')\n",
    "        s = s.replace(u'\"', '')\n",
    "        s = s.replace(u'{', '')\n",
    "        s = s.replace(u'}', '')\n",
    "        s = s.replace(u'`', '')\n",
    "        s = s.replace(u'\\n', '')\n",
    "        s = s.replace(u'\\t', '')\n",
    "        s = s.replace(u'=', '')\n",
    "        return s\n",
    "    \n",
    "    \n",
    "    # Replace the citekey with a standard format: 1 author, author_year; 2 authors, author1_author_2_year and 3+ authors: author1_ea_year\n",
    "    def writeCiteKey(self):\n",
    "        if len(self.keys['author']) == 1:\n",
    "            self.citekey = '%s_%s' % (self.keys['author'][0], self.keys['year'])\n",
    "        elif len(self.keys['author']) == 2:\n",
    "            self.citekey = '%s_%s_%s' % (self.keys['author'][0], self.keys['author'][1], self.keys['year'])\n",
    "        else:\n",
    "            self.citekey = '%s_ea_%s' % (self.keys['author'][0], self.keys['year'])\n",
    "        return self.citekey"
   ]
  },
  {
   "cell_type": "code",
   "execution_count": 176,
   "metadata": {
    "collapsed": false
   },
   "outputs": [],
   "source": [
    "class ArticleItem:\n",
    "    def __init(self, text):\n",
    "        self.text = text\n",
    "        return\n",
    "\n",
    "class Bibliography:\n",
    "    \n",
    "    def __init__(self, filename='bibliography.bib'):\n",
    "        \n",
    "        # Upon intialisation, read in the file as a text file and parse into BibItems.\n",
    "        # Remove all the lines which are empty.\n",
    "        \n",
    "        with open(filename) as f:\n",
    "            self.bib = f.readlines()\n",
    "            self.bib = [l for l in self.bib if l != '\\n']\n",
    "            \n",
    "        # Parse into individual bibliography items. Each item becomes a BibItem.\n",
    "        # Each BibItem gets assigned a citekey, check that there are no duplicates. If so, \n",
    "        # append the citekey with a, b, c etc.\n",
    "        \n",
    "        self.parseBibItems()\n",
    "        \n",
    "        self.citekeys = [bibitem.citekey for bibitem in self.bibitems]\n",
    "        print self.citekeys\n",
    "        self.checkCiteKeys()\n",
    "             \n",
    "        return\n",
    "    \n",
    "    # Parse the different bib items.\n",
    "    def parseBibItems(self):\n",
    "        self.bibitems = []  \n",
    "        lb = 0\n",
    "        rb = 0\n",
    "        article = 0\n",
    "        for l, line in enumerate(self.bib):\n",
    "            lb += line.count(u'{')\n",
    "            rb += line.count(u'}')\n",
    "            if lb == rb:\n",
    "                self.bibitems.append(BibItem(self.bib[article:l+1]))\n",
    "                lb = 0\n",
    "                rb = 0\n",
    "                article = l\n",
    "        print 'Found %d bibliography items.' % len(self.bibitems)\n",
    "        return\n",
    "    \n",
    "    # Check there are no duplicate citekeys. If they are, append them a, b, c etc. depending on month published.\n",
    "    def checkCiteKeys(self):\n",
    "        if len(self.citekeys) == len(set(self.citekeys)):\n",
    "            print 'No duplicates.'\n",
    "        else:\n",
    "            print 'Nooo!'\n",
    "        return "
   ]
  },
  {
   "cell_type": "code",
   "execution_count": 177,
   "metadata": {
    "collapsed": false,
    "scrolled": true
   },
   "outputs": [
    {
     "name": "stdout",
     "output_type": "stream",
     "text": [
      "Found 5 bibliography items.\n",
      "[u'Qi_ea_2004,', u'Huang_Oberg_2015,', u'Gammie_2001,', u'Cleeves_ea_2013,', u'Cleeves_ea_2013,']\n",
      "Nooo!\n"
     ]
    }
   ],
   "source": [
    "test = Bibliography()"
   ]
  },
  {
   "cell_type": "code",
   "execution_count": 135,
   "metadata": {
    "collapsed": false
   },
   "outputs": [
    {
     "data": {
      "text/plain": [
       "'}'"
      ]
     },
     "execution_count": 135,
     "metadata": {},
     "output_type": "execute_result"
    }
   ],
   "source": [
    "test.bibitems[0].keys['year']"
   ]
  },
  {
   "cell_type": "code",
   "execution_count": null,
   "metadata": {
    "collapsed": true
   },
   "outputs": [],
   "source": [
    "test.bib_items[0].authors"
   ]
  },
  {
   "cell_type": "code",
   "execution_count": null,
   "metadata": {
    "collapsed": true
   },
   "outputs": [],
   "source": []
  }
 ],
 "metadata": {
  "kernelspec": {
   "display_name": "Python 2",
   "language": "python",
   "name": "python2"
  },
  "language_info": {
   "codemirror_mode": {
    "name": "ipython",
    "version": 2
   },
   "file_extension": ".py",
   "mimetype": "text/x-python",
   "name": "python",
   "nbconvert_exporter": "python",
   "pygments_lexer": "ipython2",
   "version": "2.7.12"
  }
 },
 "nbformat": 4,
 "nbformat_minor": 0
}
