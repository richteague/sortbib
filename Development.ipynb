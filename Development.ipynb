{
 "cells": [
  {
   "cell_type": "code",
   "execution_count": 1,
   "metadata": {
    "collapsed": true
   },
   "outputs": [],
   "source": [
    "import os"
   ]
  },
  {
   "cell_type": "code",
   "execution_count": 133,
   "metadata": {
    "collapsed": false
   },
   "outputs": [],
   "source": [
    "class ArticleItem:\n",
    "    def __init(self, text):\n",
    "        self.text = text\n",
    "        return\n",
    "\n",
    "class Bibliography:\n",
    "    \n",
    "    def __init__(self, filename='bibliography.bib'):\n",
    "        \n",
    "        # Upon intialisation, read in the file as a text file and parse into BibItems.\n",
    "        # Remove all the lines which are empty.\n",
    "        \n",
    "        with open(filename) as f:\n",
    "            self.bib = f.readlines()\n",
    "            self.bib = [l for l in self.bib if l != '\\n']\n",
    "            \n",
    "        # Parse into individual bibliography items.\n",
    "        \n",
    "        self.parseBibItems()\n",
    "        \n",
    "            \n",
    "            \n",
    "            \n",
    "        return\n",
    "    \n",
    "    def parseBibItems(self):\n",
    "        \n",
    "        # Parse the different bib items.\n",
    "        \n",
    "        self.bib_items = []\n",
    "        \n",
    "        left_brackets = 0\n",
    "        right_brackets = 0\n",
    "        article = 0\n",
    "        \n",
    "        for l, line in enumerate(self.bib):\n",
    "            \n",
    "            left_brackets += line.count(u'{')\n",
    "            right_brackets += line.count(u'}')\n",
    "\n",
    "            if left_brackets == right_brackets:\n",
    "                self.bib_items.append(BibItem(self.bib[article:l+1]))\n",
    "                left_brackets = 0\n",
    "                right_brackets = 0\n",
    "                article = l\n",
    "        \n",
    "        print 'Found %d bibliography items.' % len(self.bib_items)\n",
    "        \n",
    "        return"
   ]
  },
  {
   "cell_type": "code",
   "execution_count": 169,
   "metadata": {
    "collapsed": false
   },
   "outputs": [],
   "source": [
    "class BibItem:\n",
    "    def __init__(self, text):\n",
    "        self.parseType(text)\n",
    "        self.parseKeys(text)\n",
    "        self.parseAuthors(text)\n",
    "        return\n",
    "    \n",
    "    def parseType(self, text):\n",
    "        self.itemtype = None\n",
    "        for i in range(1, len(text[0])):\n",
    "            if text[0][i] == u'{':\n",
    "                self.itemtype = text[0][1:i]\n",
    "                break\n",
    "        return\n",
    "    \n",
    "    def parseKeys(self, text):\n",
    "        self.keynames = [l.split('=')[0].split()[0] for l in text if '=' in l]\n",
    "        return\n",
    "    \n",
    "    def parseAuthors(self, text):\n",
    "        \n",
    "        # Find the lines containing the author list.\n",
    "        \n",
    "        for i, line in enumerate(text):\n",
    "            if 'author' in line:\n",
    "                break\n",
    "\n",
    "        lb, rb = 0, 0\n",
    "        for l, line in enumerate(text[i:]):\n",
    "            lb += line.count(u'{')\n",
    "            rb += line.count(u'}')\n",
    "            if lb == rb:\n",
    "                print lb, rb\n",
    "                break\n",
    "        \n",
    "        tosearch = ''.join([l for l in text[i:i+l+1]])\n",
    "        tosearch = tosearch.replace('\\n', '')\n",
    "\n",
    "        \n",
    "        return "
   ]
  },
  {
   "cell_type": "code",
   "execution_count": 170,
   "metadata": {
    "collapsed": false
   },
   "outputs": [
    {
     "name": "stdout",
     "output_type": "stream",
     "text": [
      "14 14\n",
      "   author = {{Qi}, C. and {Ho}, P.~T.~P. and {Wilner}, D.~J. and {Takakuwa}, S. and \t{Hirano}, N. and {Ohashi}, N. and {Bourke}, T.~L. and {Zhang}, Q. and \t{Blake}, G.~A. and {Hogerheijde}, M. and {Saito}, M. and {Choi}, M. and \t{Yang}, J.},\n",
      "4 4\n",
      "   author = {{Huang}, J. and {{\\\"O}berg}, K.~I.},\n",
      "Found 2 bibliography items.\n"
     ]
    }
   ],
   "source": [
    "test = Bibliography()"
   ]
  },
  {
   "cell_type": "code",
   "execution_count": 119,
   "metadata": {
    "collapsed": false
   },
   "outputs": [
    {
     "data": {
      "text/plain": [
       "' {{Huang}, J. and {{\\\\\"O}berg}, K.~I.},\\n'"
      ]
     },
     "execution_count": 119,
     "metadata": {},
     "output_type": "execute_result"
    }
   ],
   "source": [
    "test.bib_items[1].keyvalues[0]"
   ]
  },
  {
   "cell_type": "code",
   "execution_count": null,
   "metadata": {
    "collapsed": true
   },
   "outputs": [],
   "source": []
  }
 ],
 "metadata": {
  "kernelspec": {
   "display_name": "Python 2",
   "language": "python",
   "name": "python2"
  },
  "language_info": {
   "codemirror_mode": {
    "name": "ipython",
    "version": 2
   },
   "file_extension": ".py",
   "mimetype": "text/x-python",
   "name": "python",
   "nbconvert_exporter": "python",
   "pygments_lexer": "ipython2",
   "version": "2.7.12"
  }
 },
 "nbformat": 4,
 "nbformat_minor": 0
}
